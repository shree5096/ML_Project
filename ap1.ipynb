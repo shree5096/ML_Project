{
 "cells": [
  {
   "cell_type": "code",
   "execution_count": 2,
   "metadata": {},
   "outputs": [
    {
     "data": {
      "text/plain": [
       "'0.63.0'"
      ]
     },
     "execution_count": 2,
     "metadata": {},
     "output_type": "execute_result"
    }
   ],
   "source": [
    "import streamlit\n",
    " streamlit.__version__"
   ]
  },
  {
   "cell_type": "code",
   "execution_count": 3,
   "metadata": {},
   "outputs": [
    {
     "ename": "SyntaxError",
     "evalue": "invalid syntax (<ipython-input-3-c7a1b683aa76>, line 1)",
     "output_type": "error",
     "traceback": [
      "\u001b[1;36m  File \u001b[1;32m\"<ipython-input-3-c7a1b683aa76>\"\u001b[1;36m, line \u001b[1;32m1\u001b[0m\n\u001b[1;33m    streamlit hello\u001b[0m\n\u001b[1;37m                  ^\u001b[0m\n\u001b[1;31mSyntaxError\u001b[0m\u001b[1;31m:\u001b[0m invalid syntax\n"
     ]
    }
   ],
   "source": [
    "streamlit hello\n"
   ]
  },
  {
   "cell_type": "code",
   "execution_count": 1,
   "metadata": {},
   "outputs": [],
   "source": [
    "import numpy as np\n",
    "import pickle\n",
    "import pandas as pd\n",
    "#from flasgger import Swagger\n",
    "import streamlit as st \n",
    "\n",
    "from PIL import Image\n",
    "\n",
    "#app=Flask(__name__)\n",
    "#Swagger(app)\n",
    "pickle_in = open(\"/Users/user/Desktop/DS/python/MACHINE LEARNING ALGORITHM/loan/ETree.pkl\",\"rb\")\n",
    "ETree=pickle.load(pickle_in)\n",
    "\n",
    "#@app.route('/')\n",
    "def welcome():\n",
    "    return \"Welcome All\"\n",
    "\n",
    "#@app.route('/predict',methods=[\"Get\"])\n",
    "def Loan_status():\n",
    "    \"\"\"Let's Authenticate the loan prediction\n",
    "    This is using docstrings for specifications.\n",
    "    ---\n",
    "    parameters:  \n",
    "      - name: Gender\n",
    "        in: query\n",
    "        type: number\n",
    "        required: true\n",
    "      - name: Married\n",
    "        in: query\n",
    "        type: number\n",
    "        required: true\n",
    "      - name: LoanAmount\n",
    "        in: query\n",
    "        type: number\n",
    "        required: true\n",
    "      - name: Loan_Amount_Term \n",
    "        in: query\n",
    "        type: number\n",
    "        required: true\n",
    "      - name: Credit_History\n",
    "        in: query\n",
    "        type: number\n",
    "        required: true\n",
    "    responses:\n",
    "        200:\n",
    "            description: The output values\n",
    "        \n",
    "    \"\"\"\n",
    "    \n",
    "    prediction=classifier.predict([[Gender,married,LoanAmount,Loan_Amount_Term,Credit_History]])\n",
    "    print(prediction)\n",
    "    return prediction\n",
    "\n",
    "def main():\n",
    "    st.title(\"Loan prediction\")\n",
    "    html_temp = \"\"\"\n",
    "    <div style=\"background-color:tomato;padding:10px\">\n",
    "    <h2 style=\"color:white;text-align:center;\">Streamlit Loan Prediction ML App </h2>\n",
    "    </div>\n",
    "    \"\"\"\n",
    "    st.markdown(html_temp,unsafe_allow_html=True)\n",
    "    Gender= st.text_input(\"Gender\",\"Type Here\")\n",
    "    Married = st.text_input(\"Married\",\"Type Here\")\n",
    "    LoanAmount= st.text_input(\"LoanAmount\",\"Type Here\")\n",
    "    Loan_Amount_Term = st.text_input(\"Loan_Amount_Term\",\"Type Here\")\n",
    "    Credit_History= st.text_input(\"Credit_History\",\"Type Here\")\n",
    "    result=\"\"\n",
    "    if st.button(\"Predict\"):\n",
    "        result=predict_note_authentication(Gender,married,LoanAmount,Loan_Amount_Term,Credit_History)\n",
    "    st.success('The output is {}'.format(result))\n",
    "    if st.button(\"About\"):\n",
    "        st.text(\"Lets LEarn\")\n",
    "        st.text(\"Built with Streamlit\")\n",
    "\n",
    "if __name__=='__main__':\n",
    "    main()\n"
   ]
  },
  {
   "cell_type": "code",
   "execution_count": null,
   "metadata": {},
   "outputs": [],
   "source": []
  }
 ],
 "metadata": {
  "kernelspec": {
   "display_name": "Python 3",
   "language": "python",
   "name": "python3"
  },
  "language_info": {
   "codemirror_mode": {
    "name": "ipython",
    "version": 3
   },
   "file_extension": ".py",
   "mimetype": "text/x-python",
   "name": "python",
   "nbconvert_exporter": "python",
   "pygments_lexer": "ipython3",
   "version": "3.6.4"
  }
 },
 "nbformat": 4,
 "nbformat_minor": 2
}
